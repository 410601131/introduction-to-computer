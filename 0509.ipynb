{
  "nbformat": 4,
  "nbformat_minor": 0,
  "metadata": {
    "colab": {
      "name": "0509.ipynb",
      "provenance": [],
      "authorship_tag": "ABX9TyM8MmIGql8Ehu6crAggA4bq",
      "include_colab_link": true
    },
    "kernelspec": {
      "name": "python3",
      "display_name": "Python 3"
    },
    "language_info": {
      "name": "python"
    }
  },
  "cells": [
    {
      "cell_type": "markdown",
      "metadata": {
        "id": "view-in-github",
        "colab_type": "text"
      },
      "source": [
        "<a href=\"https://colab.research.google.com/github/410601131/introduction-to-computer/blob/main/0509.ipynb\" target=\"_parent\"><img src=\"https://colab.research.google.com/assets/colab-badge.svg\" alt=\"Open In Colab\"/></a>"
      ]
    },
    {
      "cell_type": "code",
      "execution_count": 4,
      "metadata": {
        "colab": {
          "base_uri": "https://localhost:8080/"
        },
        "id": "N26dqUf77pp0",
        "outputId": "0ef34076-4f84-40eb-9f44-de15870f1adf"
      },
      "outputs": [
        {
          "output_type": "stream",
          "name": "stdout",
          "text": [
            "輸入你的體溫10\n",
            "體溫異常請重新測量\n"
          ]
        }
      ],
      "source": [
        "temp= float(input('輸入你的體溫'))\n",
        "if temp >= 37.5:\n",
        "    print(\"體溫過高\")\n",
        "elif temp>= 37 and temp < 37.4:\n",
        "    print(\"體溫略高\")\n",
        "elif temp>= 34 and temp<= 36.9:\n",
        "    print(\"體溫正常\")\n",
        "else:\n",
        "    print(\"體溫異常請重新測量\")\n",
        "\n"
      ]
    },
    {
      "cell_type": "code",
      "source": [
        "score = input(\"請輸入成績\")\n",
        "if(int(score)>=90):\n",
        "    print(\"A\")\n",
        "elif(int(score)>=80):\n",
        "    print(\"B\")\n",
        "elif(int(score)>=70):\n",
        "    print(\"c\")\n",
        "elif(int(score)>=60):\n",
        "    print(\"D\")\n",
        "else:\n",
        "    print(\"E\")\n",
        "    "
      ],
      "metadata": {
        "id": "OphicgsvEJvQ"
      },
      "execution_count": null,
      "outputs": []
    },
    {
      "cell_type": "code",
      "source": [
        "money=int(input(\"請輸入購物金額\"))\n",
        "if(money>=10000):\n",
        "  if(money>=100000):\n",
        "    print(\"八折\",money*0.8,end=\"元\\n\")\n",
        "  elif(money>=50000):\n",
        "    print(\"八五折\",money*0.85,end=\"元\\n\")\n",
        "  elif(money>=30000):\n",
        "    print(\"九折\",money*0.9,end=\"元\\n\")\n",
        "  else:\n",
        "    print(\"九五折\",money*0.95,end=\"元\\n\")\n",
        "else:\n",
        "  print(\"沒打折\",money,end=\"元\\n\")\n"
      ],
      "metadata": {
        "colab": {
          "base_uri": "https://localhost:8080/"
        },
        "id": "vyuzsYe7FdeS",
        "outputId": "7da46898-5382-4e12-ccb5-89791ec1e919"
      },
      "execution_count": 9,
      "outputs": [
        {
          "output_type": "stream",
          "name": "stdout",
          "text": [
            "請輸入購物金額99\n",
            "沒打折 99元\n"
          ]
        }
      ]
    },
    {
      "cell_type": "code",
      "source": [
        "season=int(input(\"請輸入月份\"))\n",
        "if season==3 or season==4 or season==5:\n",
        "    print(season,\"月是春天\")\n",
        "elif season==6 or season==7 or season==8:\n",
        "    print(season,\"月是夏天\")\n",
        "elif season==9 or season==10 or season==11:\n",
        "    print(season,\"月是秋天\")\n",
        "elif season==12 or season==1 or season==2:\n",
        "    print(season,\"月是冬天\")\n",
        "else:\n",
        "    print(\"月份不在範圍內\")\n"
      ],
      "metadata": {
        "colab": {
          "base_uri": "https://localhost:8080/"
        },
        "id": "K9xzgM-HJPqi",
        "outputId": "2751c4dc-e45d-43f4-d564-82e9c2cab700"
      },
      "execution_count": 10,
      "outputs": [
        {
          "output_type": "stream",
          "name": "stdout",
          "text": [
            "請輸入月份4\n",
            "4 月是春天\n"
          ]
        }
      ]
    },
    {
      "cell_type": "code",
      "source": [
        "tax= int(input(\"請輸入今年收入淨額\"))\n",
        "if tax>=2000000:\n",
        "    print(\"付稅金額\",tax*0.3,\"元\")\n",
        "elif tax>=1000000:\n",
        "    print(\"付稅金額\",tax*0.21,\"元\")\n",
        "elif tax>=600000:\n",
        "    print(\"付稅金額\",tax*0.13,\"元\")\n",
        "elif tax>=300000:\n",
        "    print(\"付稅金額\",tax*0.06,\"元\")\n",
        "else:\n",
        "    print(\"付稅金額:0元\")"
      ],
      "metadata": {
        "colab": {
          "base_uri": "https://localhost:8080/"
        },
        "id": "91IkRvc5K_TG",
        "outputId": "12e9425d-cab1-4a64-c3f2-d752aa011c2d"
      },
      "execution_count": 11,
      "outputs": [
        {
          "output_type": "stream",
          "name": "stdout",
          "text": [
            "請輸入今年收入淨額20\n",
            "付稅金額:0元\n"
          ]
        }
      ]
    },
    {
      "cell_type": "code",
      "source": [
        ""
      ],
      "metadata": {
        "id": "L5ytJa8RHGep"
      },
      "execution_count": 5,
      "outputs": []
    }
  ]
}